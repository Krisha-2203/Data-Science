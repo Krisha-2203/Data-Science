{
  "nbformat": 4,
  "nbformat_minor": 0,
  "metadata": {
    "colab": {
      "provenance": []
    },
    "kernelspec": {
      "name": "python3",
      "display_name": "Python 3"
    },
    "language_info": {
      "name": "python"
    }
  },
  "cells": [
    {
      "cell_type": "markdown",
      "source": [
        "**Assignment 2 Group 3 **\n",
        "\n",
        "Aksh Talati & Krisha Lakhani"
      ],
      "metadata": {
        "id": "Pthz14enR-U1"
      }
    },
    {
      "cell_type": "markdown",
      "source": [
        "Print the last number from the list of squares less than 10,000 (square of 100 numbers)"
      ],
      "metadata": {
        "id": "o2vGolVaRcm6"
      }
    },
    {
      "cell_type": "code",
      "source": [
        "print(max(i * i for i in range(100) if 100 < i * i))\n"
      ],
      "metadata": {
        "colab": {
          "base_uri": "https://localhost:8080/"
        },
        "id": "At4TZZGNOUw8",
        "outputId": "283852bc-1d39-4228-bb7b-826297e6357d"
      },
      "execution_count": 38,
      "outputs": [
        {
          "output_type": "stream",
          "name": "stdout",
          "text": [
            "9801\n"
          ]
        }
      ]
    },
    {
      "cell_type": "markdown",
      "source": [
        "Teamwork Homework #1\n",
        "\n",
        "Please write below an iterative, recursive, and generator implementation of Fibonacci numbers. Those are the series where the next element is the sum of the previous two. Also, give me the first 100 Fibonacci numbers.\n",
        "\n"
      ],
      "metadata": {
        "id": "doY1dYYKHj9k"
      }
    },
    {
      "cell_type": "code",
      "source": [
        "def fibonacci_iterative(n):\n",
        "  fib = [0, 1]\n",
        "  for i in range(2, n):\n",
        "    fib.append(fib[-1] + fib[-2])\n",
        "  return fib[:n]\n",
        "\n",
        "x=100\n",
        "print(fibonacci_iterative(x))"
      ],
      "metadata": {
        "colab": {
          "base_uri": "https://localhost:8080/"
        },
        "id": "1hQDciOAJ5gG",
        "outputId": "0b375d0c-4d68-4e72-b1cd-bb538e181dcd"
      },
      "execution_count": 11,
      "outputs": [
        {
          "output_type": "stream",
          "name": "stdout",
          "text": [
            "[0, 1, 1, 2, 3, 5, 8, 13, 21, 34, 55, 89, 144, 233, 377, 610, 987, 1597, 2584, 4181, 6765, 10946, 17711, 28657, 46368, 75025, 121393, 196418, 317811, 514229, 832040, 1346269, 2178309, 3524578, 5702887, 9227465, 14930352, 24157817, 39088169, 63245986, 102334155, 165580141, 267914296, 433494437, 701408733, 1134903170, 1836311903, 2971215073, 4807526976, 7778742049, 12586269025, 20365011074, 32951280099, 53316291173, 86267571272, 139583862445, 225851433717, 365435296162, 591286729879, 956722026041, 1548008755920, 2504730781961, 4052739537881, 6557470319842, 10610209857723, 17167680177565, 27777890035288, 44945570212853, 72723460248141, 117669030460994, 190392490709135, 308061521170129, 498454011879264, 806515533049393, 1304969544928657, 2111485077978050, 3416454622906707, 5527939700884757, 8944394323791464, 14472334024676221, 23416728348467685, 37889062373143906, 61305790721611591, 99194853094755497, 160500643816367088, 259695496911122585, 420196140727489673, 679891637638612258, 1100087778366101931, 1779979416004714189, 2880067194370816120, 4660046610375530309, 7540113804746346429, 12200160415121876738, 19740274219868223167, 31940434634990099905, 51680708854858323072, 83621143489848422977, 135301852344706746049, 218922995834555169026]\n"
          ]
        }
      ]
    },
    {
      "cell_type": "code",
      "source": [
        "#recursive\n",
        "def fibonacci_recursive(n):\n",
        "  def fib_helper(x):\n",
        "        if x == 0:\n",
        "            return 0\n",
        "        elif x == 1:\n",
        "            return 1\n",
        "        else:\n",
        "            return fib_helper(x - 1) + fib_helper(x - 2)\n",
        "  return [fib_helper(i) for i in range(n)]\n",
        "\n",
        "x=10. # done for 10 as 100 will take a very long time\n",
        "print(fibonacci_recursive(x))"
      ],
      "metadata": {
        "colab": {
          "base_uri": "https://localhost:8080/"
        },
        "id": "gTTWGTmnIpp7",
        "outputId": "a4a7dbe3-1ad0-4b76-b3d5-a47cffbca176"
      },
      "execution_count": 22,
      "outputs": [
        {
          "output_type": "stream",
          "name": "stdout",
          "text": [
            "[0, 1, 1, 2, 3, 5, 8, 13, 21, 34]\n"
          ]
        }
      ]
    },
    {
      "cell_type": "code",
      "source": [
        "#generator 1\n",
        "def fibonacci_generator(n):\n",
        "  a, b = 0, 1\n",
        "  for _ in range(n):\n",
        "    yield a\n",
        "    a, b = b, a + b\n",
        "\n",
        "x=100\n",
        "print(list(fibonacci_generator(x)))"
      ],
      "metadata": {
        "colab": {
          "base_uri": "https://localhost:8080/"
        },
        "id": "2fM90Y_eLlWM",
        "outputId": "b99f8e1c-38eb-4dd4-9428-e62e8ab83a33"
      },
      "execution_count": 13,
      "outputs": [
        {
          "output_type": "stream",
          "name": "stdout",
          "text": [
            "[0, 1, 1, 2, 3, 5, 8, 13, 21, 34, 55, 89, 144, 233, 377, 610, 987, 1597, 2584, 4181, 6765, 10946, 17711, 28657, 46368, 75025, 121393, 196418, 317811, 514229, 832040, 1346269, 2178309, 3524578, 5702887, 9227465, 14930352, 24157817, 39088169, 63245986, 102334155, 165580141, 267914296, 433494437, 701408733, 1134903170, 1836311903, 2971215073, 4807526976, 7778742049, 12586269025, 20365011074, 32951280099, 53316291173, 86267571272, 139583862445, 225851433717, 365435296162, 591286729879, 956722026041, 1548008755920, 2504730781961, 4052739537881, 6557470319842, 10610209857723, 17167680177565, 27777890035288, 44945570212853, 72723460248141, 117669030460994, 190392490709135, 308061521170129, 498454011879264, 806515533049393, 1304969544928657, 2111485077978050, 3416454622906707, 5527939700884757, 8944394323791464, 14472334024676221, 23416728348467685, 37889062373143906, 61305790721611591, 99194853094755497, 160500643816367088, 259695496911122585, 420196140727489673, 679891637638612258, 1100087778366101931, 1779979416004714189, 2880067194370816120, 4660046610375530309, 7540113804746346429, 12200160415121876738, 19740274219868223167, 31940434634990099905, 51680708854858323072, 83621143489848422977, 135301852344706746049, 218922995834555169026]\n"
          ]
        }
      ]
    },
    {
      "cell_type": "code",
      "source": [
        "# #generator 2\n",
        "\n",
        "fibonacci_generator = lambda n: (a := 0, b := 1, [a := (b := a + b) - a for _ in range(n)])[-1]\n",
        "print(*fibonacci_generator(100))"
      ],
      "metadata": {
        "colab": {
          "base_uri": "https://localhost:8080/"
        },
        "id": "GcniHjPsLwXu",
        "outputId": "80bc2bf6-50ed-464f-c176-bad4434d0f1c"
      },
      "execution_count": 26,
      "outputs": [
        {
          "output_type": "stream",
          "name": "stdout",
          "text": [
            "1 1 2 3 5 8 13 21 34 55 89 144 233 377 610 987 1597 2584 4181 6765 10946 17711 28657 46368 75025 121393 196418 317811 514229 832040 1346269 2178309 3524578 5702887 9227465 14930352 24157817 39088169 63245986 102334155 165580141 267914296 433494437 701408733 1134903170 1836311903 2971215073 4807526976 7778742049 12586269025 20365011074 32951280099 53316291173 86267571272 139583862445 225851433717 365435296162 591286729879 956722026041 1548008755920 2504730781961 4052739537881 6557470319842 10610209857723 17167680177565 27777890035288 44945570212853 72723460248141 117669030460994 190392490709135 308061521170129 498454011879264 806515533049393 1304969544928657 2111485077978050 3416454622906707 5527939700884757 8944394323791464 14472334024676221 23416728348467685 37889062373143906 61305790721611591 99194853094755497 160500643816367088 259695496911122585 420196140727489673 679891637638612258 1100087778366101931 1779979416004714189 2880067194370816120 4660046610375530309 7540113804746346429 12200160415121876738 19740274219868223167 31940434634990099905 51680708854858323072 83621143489848422977 135301852344706746049 218922995834555169026 354224848179261915075\n"
          ]
        }
      ]
    },
    {
      "cell_type": "markdown",
      "source": [
        "Teamwork Homework (correction)\n",
        "\n",
        "Part 1: Google/chatGPT/write code to determine if a number is a prime number.\n",
        "\n",
        "Part 2: Rewrite your code Dua-Lipa style: In one line of code!"
      ],
      "metadata": {
        "id": "v_Op3hMxHQvO"
      }
    },
    {
      "cell_type": "code",
      "source": [
        "def is_prime1(n):\n",
        "    if n <= 1:\n",
        "        return False\n",
        "    for i in range(2, int(n**0.5) + 1):\n",
        "        if n % i == 0:\n",
        "            return False\n",
        "    return True\n",
        "\n",
        "# Test the function\n",
        "num = 29 # You can change this to any number you want to test\n",
        "if is_prime1(num):\n",
        "    print(f\"{num} is a prime number.\")\n",
        "else:\n",
        "    print(f\"{num} is not a prime number.\")"
      ],
      "metadata": {
        "colab": {
          "base_uri": "https://localhost:8080/"
        },
        "id": "9XHZavf_HnRL",
        "outputId": "7ba760fd-c4fc-4e31-8d03-dd3789a9460a"
      },
      "execution_count": 35,
      "outputs": [
        {
          "output_type": "stream",
          "name": "stdout",
          "text": [
            "290 is not a prime number.\n"
          ]
        }
      ]
    },
    {
      "cell_type": "code",
      "source": [
        "is_prime1 = lambda n: n > 1 and all(n % i != 0 for i in range(2, int(n**0.5) + 1))\n",
        "print(is_prime1(29))"
      ],
      "metadata": {
        "colab": {
          "base_uri": "https://localhost:8080/"
        },
        "id": "05t_4UQoOAkJ",
        "outputId": "538aa4c1-dc00-4e5f-acd3-984309cdbf3a"
      },
      "execution_count": 34,
      "outputs": [
        {
          "output_type": "stream",
          "name": "stdout",
          "text": [
            "False\n"
          ]
        }
      ]
    }
  ]
}