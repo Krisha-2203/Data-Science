{
 "cells": [
  {
   "cell_type": "markdown",
   "id": "434e588b-282b-428b-b3de-69f5cc55ad18",
   "metadata": {},
   "source": [
    "## HOMEWORK (Assignment 3)\n"
   ]
  },
  {
   "cell_type": "code",
   "execution_count": 2,
   "id": "befcd7cd-6324-4a2e-8045-3e4829e5faf6",
   "metadata": {},
   "outputs": [
    {
     "name": "stdout",
     "output_type": "stream",
     "text": [
      "The probability that the sum of a three-dice roll is prime: 0.337963\n"
     ]
    }
   ],
   "source": [
    "def is_prime(n):\n",
    "    if n <= 1:\n",
    "        return False\n",
    "    for i in range(2, int(n**0.5) + 1):\n",
    "        if n % i == 0:\n",
    "            return False\n",
    "    return True\n",
    "\n",
    "D = {1, 2, 3, 4, 5, 6}\n",
    "\n",
    "D3 = {(d1, d2, d3) for d1 in D for d2 in D for d3 in D}\n",
    "\n",
    "def prime_sum(outcome):\n",
    "    return is_prime(sum(outcome))\n",
    "\n",
    "def p(event, space):\n",
    "    return sum(1 for outcome in space if event(outcome)) / len(space)\n",
    "\n",
    "probability = p(prime_sum, D3)\n",
    "print(f\"The probability that the sum of a three-dice roll is prime: {probability:.6f}\")"
   ]
  },
  {
   "cell_type": "code",
   "execution_count": 10,
   "id": "f4b285c5-0ffd-46b6-8a11-ea86a05ee2e5",
   "metadata": {},
   "outputs": [
    {
     "name": "stdout",
     "output_type": "stream",
     "text": [
      "The probability that the sum of a three-dice roll(Dua-Lipa) is 0.33796296296296297\n"
     ]
    }
   ],
   "source": [
    "probability = sum(1 for outcome in {(d1, d2, d3) for d1 in {1, 2, 3, 4, 5, 6} for d2 in {1, 2, 3, 4, 5, 6} for d3 in {1, 2, 3, 4, 5, 6}} \n",
    "if (lambda n: n > 1 and all(n % i for i in range(2, int(n**0.5) + 1)))(sum(outcome))) / 216\n",
    "print(f\"The probability that the sum of a three-dice roll(Dua-Lipa) is {probability}\")"
   ]
  },
  {
   "cell_type": "code",
   "execution_count": null,
   "id": "22b7a095-ef76-4ae9-a52c-d9add684acff",
   "metadata": {},
   "outputs": [],
   "source": []
  },
  {
   "cell_type": "code",
   "execution_count": null,
   "id": "f4279db0-21b4-4235-9e59-80decae8abd4",
   "metadata": {},
   "outputs": [],
   "source": []
  }
 ],
 "metadata": {
  "kernelspec": {
   "display_name": "Python [conda env:base] *",
   "language": "python",
   "name": "conda-base-py"
  },
  "language_info": {
   "codemirror_mode": {
    "name": "ipython",
    "version": 3
   },
   "file_extension": ".py",
   "mimetype": "text/x-python",
   "name": "python",
   "nbconvert_exporter": "python",
   "pygments_lexer": "ipython3",
   "version": "3.12.7"
  }
 },
 "nbformat": 4,
 "nbformat_minor": 5
}
